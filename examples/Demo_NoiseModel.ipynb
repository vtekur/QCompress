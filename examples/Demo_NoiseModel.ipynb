{
 "cells": [
  {
   "cell_type": "markdown",
   "metadata": {},
   "source": [
    "# DEMO: Two-qubit QAE instance (by Hannah Sim)\n",
    "\n",
    "In this demo, we compress a two-qubit data set such that we have its (lossy) description using one qubit.\n",
    "\n",
    "We show the state preparation and training circuits below (circuits for both training schemes are shown but in this notebook, we run the \"full with reset\" method):\n",
    "\n",
    "<img src=\"../images/two_qubit_circuits.png\" width=\"500\">\n",
    "\n",
    "We first generate the data set by varying $\\phi$ (40 equally-spaced points from $\\frac{-\\pi}{2}$ to $\\frac{\\pi}{2}$). Then, a single-parameter circuit is used to find the 2-1-2 map. Looking at the circuit, the minimum should be when $\\theta = 0$.\n"
   ]
  },
  {
   "cell_type": "code",
   "execution_count": 10,
   "metadata": {},
   "outputs": [
    {
     "ename": "ModuleNotFoundError",
     "evalue": "No module named 'qcompress'",
     "output_type": "error",
     "traceback": [
      "\u001b[0;31m---------------------------------------------------------------------------\u001b[0m",
      "\u001b[0;31mModuleNotFoundError\u001b[0m                       Traceback (most recent call last)",
      "\u001b[0;32m<ipython-input-10-753ca24d04f0>\u001b[0m in \u001b[0;36m<module>\u001b[0;34m\u001b[0m\n\u001b[1;32m     10\u001b[0m \u001b[0;32mfrom\u001b[0m \u001b[0mpyquil\u001b[0m\u001b[0;34m.\u001b[0m\u001b[0mapi\u001b[0m \u001b[0;32mimport\u001b[0m \u001b[0mWavefunctionSimulator\u001b[0m\u001b[0;34m\u001b[0m\u001b[0;34m\u001b[0m\u001b[0m\n\u001b[1;32m     11\u001b[0m \u001b[0;34m\u001b[0m\u001b[0m\n\u001b[0;32m---> 12\u001b[0;31m \u001b[0;32mfrom\u001b[0m \u001b[0mqcompress\u001b[0m\u001b[0;34m.\u001b[0m\u001b[0mqae_engine\u001b[0m \u001b[0;32mimport\u001b[0m \u001b[0;34m*\u001b[0m\u001b[0;34m\u001b[0m\u001b[0;34m\u001b[0m\u001b[0m\n\u001b[0m\u001b[1;32m     13\u001b[0m \u001b[0;32mfrom\u001b[0m \u001b[0mqcompress\u001b[0m\u001b[0;34m.\u001b[0m\u001b[0mutils\u001b[0m \u001b[0;32mimport\u001b[0m \u001b[0;34m*\u001b[0m\u001b[0;34m\u001b[0m\u001b[0;34m\u001b[0m\u001b[0m\n\u001b[1;32m     14\u001b[0m \u001b[0;34m\u001b[0m\u001b[0m\n",
      "\u001b[0;31mModuleNotFoundError\u001b[0m: No module named 'qcompress'"
     ]
    }
   ],
   "source": [
    "# Import modules\n",
    "%matplotlib inline\n",
    "import matplotlib.pyplot as plt\n",
    "import numpy as np\n",
    "import os\n",
    "import scipy.optimize\n",
    "\n",
    "from pyquil.gates import *\n",
    "from pyquil import Program\n",
    "from pyquil.api import WavefunctionSimulator\n",
    "\n",
    "from qcompress.qae_engine import *\n",
    "from qcompress.utils import *\n",
    "\n",
    "global pi\n",
    "pi = np.pi"
   ]
  },
  {
   "cell_type": "markdown",
   "metadata": {},
   "source": [
    "## QAE Settings\n",
    "\n",
    "In the cell below, we enter the settings for the QAE.\n",
    "\n",
    "__NOTE__: Because QCompress was designed to run on the quantum device (as well as the simulator), we need to anticipate nontrival mappings between abstract qubits and physical qubits. The dictionaries `q_in`,  `q_latent`, and `q_refresh` are abstract-to-physical qubit mappings for the input, latent space, and refresh qubits respectively. A cool plug-in/feature to add would be to have an automated \"qubit mapper\" to determine the optimal or near-optimal abstract-to-physical qubit mappings for a particular QAE instance."
   ]
  },
  {
   "cell_type": "code",
   "execution_count": null,
   "metadata": {},
   "outputs": [],
   "source": [
    "### QAE setup options\n",
    "\n",
    "# Abstract-to-physical qubit mapping\n",
    "q_in = {'q0': 0, 'q1': 1} # Input qubits\n",
    "q_latent = {'q1': 1}      # Latent space qubits\n",
    "q_refresh = {'q0': 0}     # Refresh qubits\n",
    "\n",
    "# Training scheme: Full with reset feature (q_refresh = q_in - q_latent)\n",
    "trash_training = False\n",
    "reset = True\n",
    "\n",
    "# Simulator settings\n",
    "cxn_setting = '2q-qvm'\n",
    "n_shots = 5000"
   ]
  },
  {
   "cell_type": "markdown",
   "metadata": {},
   "source": [
    "### Aside: Running on the QPU\n",
    "\n",
    "To execute the quantum autoencoder on an actual quantum device, the user simply replaces `cxn_setting` to a valid quantum processing unit (QPU) setting. This is also assuming the user has already made reservations on his/her quantum machine image (QMI) to use the QPU. To sign up for an account on Rigetti's Quantum Cloud Services (QCS), click [here](https://www.rigetti.com/qcs)."
   ]
  },
  {
   "cell_type": "markdown",
   "metadata": {},
   "source": [
    "## Data preparation circuits\n",
    "\n",
    "To prepare the quantum data, we define the state preparation circuits (and their daggered circuits). In this particular example, we will generate the data by scanning over various values of `phi`. "
   ]
  },
  {
   "cell_type": "code",
   "execution_count": 6,
   "metadata": {},
   "outputs": [],
   "source": [
    "def _state_prep_circuit(phi, qubit_indices):\n",
    "    \"\"\"\n",
    "    Returns parametrized state preparation circuit.\n",
    "    We will vary over phi to generate the data set.\n",
    "    \n",
    "    :param phi: (list or numpy.array, required) List or array of data generation parameters\n",
    "    :param qubit_indices: (list, required) List of qubit indices\n",
    "    :returns: State preparation circuit\n",
    "    :rtype: pyquil.quil.Program\n",
    "    \"\"\"\n",
    "    circuit = Program()\n",
    "    circuit += Program(RY(phi[0], qubit_indices[1]))\n",
    "    circuit += Program(CNOT(qubit_indices[1], qubit_indices[0]))\n",
    "    return circuit\n",
    "\n",
    "def _state_prep_circuit_dag(phi, qubit_indices):\n",
    "    \"\"\"\n",
    "    Returns the daggered version of the state preparation circuit.\n",
    "    \n",
    "    :param phi: (list or numpy.array, required) List or array of data generation parameters\n",
    "    :param qubit_indices: (list, required) List of qubit indices\n",
    "    :returns: State un-preparation circuit\n",
    "    :rtype: pyquil.quil.Program\n",
    "    \"\"\"\n",
    "    circuit = Program()\n",
    "    circuit += Program(CNOT(qubit_indices[1], qubit_indices[0]))\n",
    "    circuit += Program(RY(-phi[0], qubit_indices[1]))\n",
    "    return circuit"
   ]
  },
  {
   "cell_type": "markdown",
   "metadata": {},
   "source": [
    "## Qubit labeling\n",
    "\n",
    "In the cell below, we produce lists of __ordered__ physical qubit indices involved in the compression and recovery maps of the quantum autoencoder. Depending on the training and reset schemes, we may use different qubits for the compression vs. recovery."
   ]
  },
  {
   "cell_type": "code",
   "execution_count": 7,
   "metadata": {},
   "outputs": [
    {
     "ename": "NameError",
     "evalue": "name 'order_qubit_labels' is not defined",
     "output_type": "error",
     "traceback": [
      "\u001b[0;31m---------------------------------------------------------------------------\u001b[0m",
      "\u001b[0;31mNameError\u001b[0m                                 Traceback (most recent call last)",
      "\u001b[0;32m<ipython-input-7-1ecf56e0b1a5>\u001b[0m in \u001b[0;36m<module>\u001b[0;34m\u001b[0m\n\u001b[0;32m----> 1\u001b[0;31m \u001b[0mcompression_indices\u001b[0m \u001b[0;34m=\u001b[0m \u001b[0morder_qubit_labels\u001b[0m\u001b[0;34m(\u001b[0m\u001b[0mq_in\u001b[0m\u001b[0;34m)\u001b[0m\u001b[0;34m.\u001b[0m\u001b[0mtolist\u001b[0m\u001b[0;34m(\u001b[0m\u001b[0;34m)\u001b[0m\u001b[0;34m\u001b[0m\u001b[0;34m\u001b[0m\u001b[0m\n\u001b[0m\u001b[1;32m      2\u001b[0m \u001b[0;34m\u001b[0m\u001b[0m\n\u001b[1;32m      3\u001b[0m \u001b[0mq_out\u001b[0m \u001b[0;34m=\u001b[0m \u001b[0mmerge_two_dicts\u001b[0m\u001b[0;34m(\u001b[0m\u001b[0mq_latent\u001b[0m\u001b[0;34m,\u001b[0m \u001b[0mq_refresh\u001b[0m\u001b[0;34m)\u001b[0m\u001b[0;34m\u001b[0m\u001b[0;34m\u001b[0m\u001b[0m\n\u001b[1;32m      4\u001b[0m \u001b[0mrecovery_indices\u001b[0m \u001b[0;34m=\u001b[0m \u001b[0morder_qubit_labels\u001b[0m\u001b[0;34m(\u001b[0m\u001b[0mq_out\u001b[0m\u001b[0;34m)\u001b[0m\u001b[0;34m.\u001b[0m\u001b[0mtolist\u001b[0m\u001b[0;34m(\u001b[0m\u001b[0;34m)\u001b[0m\u001b[0;34m\u001b[0m\u001b[0;34m\u001b[0m\u001b[0m\n\u001b[1;32m      5\u001b[0m \u001b[0;34m\u001b[0m\u001b[0m\n",
      "\u001b[0;31mNameError\u001b[0m: name 'order_qubit_labels' is not defined"
     ]
    }
   ],
   "source": [
    "compression_indices = order_qubit_labels(q_in).tolist()\n",
    "\n",
    "q_out = merge_two_dicts(q_latent, q_refresh)\n",
    "recovery_indices = order_qubit_labels(q_out).tolist()\n",
    "\n",
    "if not reset:\n",
    "    recovery_indices = recovery_indices[::-1]\n",
    "\n",
    "print(\"Physical qubit indices for compression : {0}\".format(compression_indices))\n",
    "print(\"Physical qubit indices for recovery    : {0}\".format(recovery_indices))"
   ]
  },
  {
   "cell_type": "markdown",
   "metadata": {},
   "source": [
    "For the full training scheme with no resetting feature, this will require the three total qubits. \n",
    "\n",
    "The first two qubits (`q0`, `q1`) will be used to encode the quantum data. `q1` will then be used as the latent space qubit, meaning our objective will be to reward the training conditions that \"push\" the information to the latent space qubit. Then, a refresh qubit, `q2`, is added to recover the original data."
   ]
  },
  {
   "cell_type": "markdown",
   "metadata": {},
   "source": [
    "## Data generation\n",
    "\n",
    "After determining the qubit mapping, we add this physical qubit information to the state preparation circuits and store the \"mapped\" circuits."
   ]
  },
  {
   "cell_type": "code",
   "execution_count": 93,
   "metadata": {},
   "outputs": [],
   "source": [
    "# Lists to store state preparation circuits\n",
    "list_SP_circuits = []\n",
    "list_SP_circuits_dag = []\n",
    "\n",
    "phi_list = np.linspace(-pi/2., pi/2., 40)\n",
    "\n",
    "for angle in phi_list:\n",
    "\n",
    "    # Map state prep circuits\n",
    "    state_prep_circuit = _state_prep_circuit([angle], compression_indices)\n",
    "    \n",
    "    # Map daggered state prep circuits\n",
    "    if reset:\n",
    "        state_prep_circuit_dag = _state_prep_circuit_dag([angle], compression_indices)\n",
    "    else:\n",
    "        state_prep_circuit_dag = _state_prep_circuit_dag([angle], recovery_indices)\n",
    "\n",
    "    # Store mapped circuits\n",
    "    list_SP_circuits.append(state_prep_circuit)\n",
    "    list_SP_circuits_dag.append(state_prep_circuit_dag)"
   ]
  },
  {
   "cell_type": "markdown",
   "metadata": {},
   "source": [
    "## Training circuit preparation\n",
    "\n",
    "In this step, we choose a parametrized quantum circuit that will be trained to compress then recover the input data set.\n",
    "\n",
    "__NOTE__: This is a simple one-parameter training circuit."
   ]
  },
  {
   "cell_type": "code",
   "execution_count": 94,
   "metadata": {},
   "outputs": [],
   "source": [
    "def _training_circuit(theta, qubit_indices):\n",
    "    \"\"\"\n",
    "    Returns parametrized/training circuit.\n",
    "    \n",
    "    :param theta: (list or numpy.array, required) Vector of training parameters\n",
    "    :param qubit_indices: (list, required) List of qubit indices\n",
    "    :returns: Training circuit\n",
    "    :rtype: pyquil.quil.Program\n",
    "    \"\"\"\n",
    "    circuit = Program()\n",
    "    circuit += Program(RY(-theta[0]/2, qubit_indices[0]))\n",
    "    circuit += Program(CNOT(qubit_indices[1], qubit_indices[0]))\n",
    "    return circuit\n",
    "\n",
    "def _training_circuit_dag(theta, qubit_indices):\n",
    "    \"\"\"\n",
    "    Returns the daggered parametrized/training circuit.\n",
    "    \n",
    "    :param theta: (list or numpy.array, required) Vector of training parameters\n",
    "    :param qubit_indices: (list, required) List of qubit indices\n",
    "    :returns: Daggered training circuit\n",
    "    :rtype: pyquil.quil.Program\n",
    "    \"\"\"\n",
    "    circuit = Program()\n",
    "    circuit += Program(CNOT(qubit_indices[1], qubit_indices[0]))\n",
    "    circuit += Program(RY(theta[0]/2, qubit_indices[0]))\n",
    "    return circuit"
   ]
  },
  {
   "cell_type": "markdown",
   "metadata": {},
   "source": [
    "As was done for the state preparation circuits, we also map the training circuits with physical qubits we want to use."
   ]
  },
  {
   "cell_type": "code",
   "execution_count": 95,
   "metadata": {},
   "outputs": [],
   "source": [
    "training_circuit = lambda param : _training_circuit(param, compression_indices)\n",
    "\n",
    "if reset:\n",
    "    training_circuit_dag = lambda param : _training_circuit_dag(param, compression_indices)\n",
    "else:\n",
    "    training_circuit_dag = lambda param : _training_circuit_dag(param, recovery_indices)"
   ]
  },
  {
   "cell_type": "markdown",
   "metadata": {},
   "source": [
    "## Define the QAE instance\n",
    "\n",
    "Here, we initialize a QAE instance. This is where the user can decide which optimizer to use, etc. \n",
    "\n",
    "For this demo, we use `scipy`'s POWELL optimizer. Because various optimizers have different output variable names, we allow the user to enter a function that parses the optimization output. This function always returns the optimized parameter then its function value (in this order). We show an example of how to use this feature below (see `opt_result_parse` function). The POWELL optimizer returns a list of output values, in which the first and second elements are the optimized parameters and their corresponding function value, respectively."
   ]
  },
  {
   "cell_type": "code",
   "execution_count": 96,
   "metadata": {},
   "outputs": [],
   "source": [
    "minimizer = scipy.optimize.fmin_powell\n",
    "minimizer_args = []\n",
    "minimizer_kwargs = ({'xtol': 0.0001, 'ftol': 0.0001, 'maxiter': 500,\n",
    "                     'full_output': 1, 'retall': 1})\n",
    "opt_result_parse = lambda opt_res: ([opt_res[0]], opt_res[1])"
   ]
  },
  {
   "cell_type": "code",
   "execution_count": 97,
   "metadata": {},
   "outputs": [],
   "source": [
    "qae = quantum_autoencoder(state_prep_circuits=list_SP_circuits,\n",
    "                          training_circuit=training_circuit,\n",
    "                          q_in=q_in,\n",
    "                          q_latent=q_latent,\n",
    "                          q_refresh=q_refresh,\n",
    "                          state_prep_circuits_dag=list_SP_circuits_dag,\n",
    "                          training_circuit_dag=training_circuit_dag,\n",
    "                          trash_training=trash_training,\n",
    "                          reset=reset,\n",
    "                          minimizer=minimizer,\n",
    "                          minimizer_args=minimizer_args,\n",
    "                          minimizer_kwargs=minimizer_kwargs,\n",
    "                          opt_result_parse=opt_result_parse,\n",
    "                          n_shots=n_shots, \n",
    "                          print_interval=1)"
   ]
  },
  {
   "cell_type": "markdown",
   "metadata": {},
   "source": [
    "After defining the instance, we set up the Forest connection (in this case, a simulator) and split the data set."
   ]
  },
  {
   "cell_type": "code",
   "execution_count": 98,
   "metadata": {},
   "outputs": [],
   "source": [
    "qae.setup_forest_cxn(cxn_setting)"
   ]
  },
  {
   "cell_type": "code",
   "execution_count": 99,
   "metadata": {},
   "outputs": [],
   "source": [
    "qae.train_test_split(train_indices=[1, 31, 16, 7, 20, 23, 9, 17])"
   ]
  },
  {
   "cell_type": "code",
   "execution_count": 100,
   "metadata": {},
   "outputs": [
    {
     "name": "stdout",
     "output_type": "stream",
     "text": [
      "QCompress Setting\n",
      "=================\n",
      "QAE type: 2-1-2\n",
      "Data size: 40\n",
      "Training set size: 8\n",
      "Training mode: full cost function\n",
      "  Reset qubits: True\n",
      "Compile program: False\n",
      "Forest connection: 2q-qvm\n",
      "  Connection type: QVM\n"
     ]
    }
   ],
   "source": [
    "print(qae)"
   ]
  },
  {
   "cell_type": "markdown",
   "metadata": {},
   "source": [
    "## Training\n",
    "\n",
    "The autoencoder is trained in the cell below. The lowest possible mean loss value is -1.000."
   ]
  },
  {
   "cell_type": "code",
   "execution_count": 101,
   "metadata": {
    "scrolled": false
   },
   "outputs": [
    {
     "name": "stdout",
     "output_type": "stream",
     "text": [
      "Iter    0 Mean Loss: -0.5368500\n",
      "Iter    1 Mean Loss: -0.5376000\n",
      "Iter    2 Mean Loss: -0.2876250\n",
      "Iter    3 Mean Loss: -0.9158500\n",
      "Iter    4 Mean Loss: -0.1241750\n",
      "Iter    5 Mean Loss: -0.9183250\n",
      "Iter    6 Mean Loss: -0.0060750\n",
      "Iter    7 Mean Loss: -0.7868000\n",
      "Iter    8 Mean Loss: -0.9226000\n",
      "Iter    9 Mean Loss: -0.9999500\n",
      "Iter   10 Mean Loss: -0.9657750\n",
      "Iter   11 Mean Loss: -1.0000000\n",
      "Iter   12 Mean Loss: -1.0000000\n",
      "Iter   13 Mean Loss: -0.9997750\n",
      "Iter   14 Mean Loss: -0.5531000\n",
      "Iter   15 Mean Loss: -0.9999500\n",
      "Iter   16 Mean Loss: -0.5580500\n",
      "Iter   17 Mean Loss: -0.1733000\n",
      "Iter   18 Mean Loss: -0.9998750\n",
      "Iter   19 Mean Loss: -0.7899000\n",
      "Iter   20 Mean Loss: -0.9230750\n",
      "Iter   21 Mean Loss: -1.0000000\n",
      "Iter   22 Mean Loss: -0.9999000\n",
      "Iter   23 Mean Loss: -1.0000000\n",
      "Iter   24 Mean Loss: -1.0000000\n",
      "Iter   25 Mean Loss: -0.9999750\n",
      "Iter   26 Mean Loss: -1.0000000\n",
      "Iter   27 Mean Loss: -0.9999750\n",
      "Iter   28 Mean Loss: -1.0000000\n",
      "Iter   29 Mean Loss: -1.0000000\n",
      "Iter   30 Mean Loss: -1.0000000\n",
      "Iter   31 Mean Loss: -1.0000000\n",
      "Iter   32 Mean Loss: -1.0000000\n",
      "Iter   33 Mean Loss: -1.0000000\n",
      "Iter   34 Mean Loss: -1.0000000\n",
      "Iter   35 Mean Loss: -0.9998750\n",
      "Iter   36 Mean Loss: -0.9999750\n",
      "Iter   37 Mean Loss: -1.0000000\n",
      "Iter   38 Mean Loss: -0.9999000\n",
      "Iter   39 Mean Loss: -0.9999250\n",
      "Iter   40 Mean Loss: -0.9999500\n",
      "Iter   41 Mean Loss: -0.9999750\n",
      "Iter   42 Mean Loss: -0.9999500\n",
      "Iter   43 Mean Loss: -0.9999500\n",
      "Iter   44 Mean Loss: -0.9999250\n",
      "Iter   45 Mean Loss: -0.9999250\n",
      "Optimization terminated successfully.\n",
      "         Current function value: -1.000000\n",
      "         Iterations: 2\n",
      "         Function evaluations: 46\n",
      "Mean loss for training data: -1.0\n",
      "CPU times: user 4.34 s, sys: 56 ms, total: 4.4 s\n",
      "Wall time: 1min\n"
     ]
    }
   ],
   "source": [
    "%%time\n",
    "initial_guess = [pi/1.2]\n",
    "\n",
    "avg_loss_train = qae.train(initial_guess)"
   ]
  },
  {
   "cell_type": "markdown",
   "metadata": {},
   "source": [
    "### Printing the optimized parameters"
   ]
  },
  {
   "cell_type": "code",
   "execution_count": 102,
   "metadata": {},
   "outputs": [
    {
     "name": "stdout",
     "output_type": "stream",
     "text": [
      "[array(-0.02730856)]\n"
     ]
    }
   ],
   "source": [
    "print(qae.optimized_params)"
   ]
  },
  {
   "cell_type": "markdown",
   "metadata": {},
   "source": [
    "### Plot training loss"
   ]
  },
  {
   "cell_type": "code",
   "execution_count": 103,
   "metadata": {},
   "outputs": [
    {
     "data": {
      "image/png": "[encoded data removed]",
      "text/plain": [
       "<Figure size 432x288 with 1 Axes>"
      ]
     },
     "metadata": {
      "needs_background": "light"
     },
     "output_type": "display_data"
    }
   ],
   "source": [
    "# Visualize loss across function evaluations\n",
    "fig = plt.figure(figsize=(6, 4))\n",
    "plt.plot(qae.train_history, 'ko-', markersize=4, linewidth=1)\n",
    "plt.title(\"Training Loss\", fontsize=16)\n",
    "plt.xlabel(\"Function Evaluation\",fontsize=20)\n",
    "plt.ylabel(\"Loss Value\", fontsize=20)\n",
    "plt.xticks(fontsize=16)\n",
    "plt.yticks(fontsize=16)\n",
    "plt.show()"
   ]
  },
  {
   "cell_type": "markdown",
   "metadata": {},
   "source": [
    "## Testing\n",
    "\n",
    "Now test the optimized network against the rest of the data set (i.e. use the optimized parameters to try to compress then recover each test data point)."
   ]
  },
  {
   "cell_type": "code",
   "execution_count": 104,
   "metadata": {},
   "outputs": [
    {
     "name": "stdout",
     "output_type": "stream",
     "text": [
      "Iter   46 Mean Loss: -0.9999438\n",
      "Mean loss for test data: -0.9999437500000001\n"
     ]
    }
   ],
   "source": [
    "avg_loss_test = qae.predict()"
   ]
  },
  {
   "cell_type": "markdown",
   "metadata": {},
   "source": [
    "# Noise Library (ES 170 Project)\n",
    "\n",
    "Now we will give our generalized noise library. This library can generate a noise model for the entire range of gates in the Pyquil library.\n",
    "\n",
    "To do this, we first compile our code down to Pyquil's native gates. After this, we parse these gates and generate a string that can be inputted into our Mathematica notebook.  The user can vary the noise parameters in the Rx, Rz, and Cz gates. By fixing one of these variables, the user can see the visualize the affect of two of these noisy gates on their program via a 3D graph. "
   ]
  },
  {
   "cell_type": "markdown",
   "metadata": {},
   "source": [
    "## Parsing the executable Circuit"
   ]
  },
  {
   "cell_type": "markdown",
   "metadata": {},
   "source": [
    "In this function we parse the executable circuit outputted by Pyquil. This function will output a list of Rx, Rz, and Cz gates with the correct angles, control and target bits that our higher level gates (such as Hadamard) compiled down to. "
   ]
  },
  {
   "cell_type": "code",
   "execution_count": 1,
   "metadata": {},
   "outputs": [],
   "source": [
    "# Number of qubits in our circuit \n",
    "# Vary this parameter if you are using our libarary on a circuit with a different number of qubits\n",
    "N = 2"
   ]
  },
  {
   "cell_type": "code",
   "execution_count": 2,
   "metadata": {},
   "outputs": [],
   "source": [
    "def compiled_formatting(p):\n",
    "    temp = str(executable)\n",
    "    gates = []\n",
    "    # get the gate strings our of the excutable program string\n",
    "    for i in range(0, len(temp)):\n",
    "        # look for line breaks \n",
    "        if(temp[i] == \"n\"): \n",
    "            # look for RZ and RX gates\n",
    "            if temp[i+1] == 'R':\n",
    "                if temp[i+2] == 'X' or temp[i+2] == 'Z':\n",
    "                    gates.append([])\n",
    "            # look for CZ gates\n",
    "            if temp[i+1] == 'C' and temp[i+2] == 'Z':\n",
    "                    gates.append([])\n",
    "        elif len(gates) > 0:\n",
    "            gates[len(gates)-1].append(temp[i])\n",
    "\n",
    "    # reformat the gate strings so that they are easy to use\n",
    "    n_gates = []\n",
    "    \n",
    "    for i in range(0, len(gates)):\n",
    "        # reformat RX and RZ gates\n",
    "        if gates[i][0] == 'R':\n",
    "            # append the correct angle (+/- pi/2) and target bit for the RX gate\n",
    "            if gates[i][1] == 'X':\n",
    "                if '-' in gates[i]:\n",
    "                    bit = gates[i][-2]\n",
    "                    n_gates.append(['RX', '-Pi/2', bit])\n",
    "                else:\n",
    "                    bit = gates[i][-2]\n",
    "                    n_gates.append(['RX', 'Pi/2', bit])\n",
    "            # append the correct angle and target bit for the RZ gate\n",
    "            if gates[i][1] == 'Z':\n",
    "                count = 3\n",
    "                angle = \"\"\n",
    "                # reformat the angle value for RZ gate\n",
    "                while(gates[i][count] != ')'):\n",
    "                    angle += gates[i][count]\n",
    "                    count += 1\n",
    "                bit = gates[i][-2]\n",
    "                # account for negative angles\n",
    "                if '-' in angle:\n",
    "                    angle = angle[1:]\n",
    "                    if angle == 'pi':\n",
    "                        n_gates.append(['RZ', '-Pi', bit])\n",
    "                    elif angle == 'pi/2':\n",
    "                        n_gates.append(['RZ', '-Pi/2', bit])\n",
    "                    else:\n",
    "                        n_gates.append(['RZ', f'-{angle}', bit])\n",
    "                elif angle == 'pi':\n",
    "                    n_gates.append(['RZ', 'Pi', bit])\n",
    "                elif angle == 'pi/2':\n",
    "                    n_gates.append(['RZ', 'Pi/2', bit])\n",
    "                else:\n",
    "                    n_gates.append(['RZ', angle, bit])\n",
    "        # append the correct control and target bits for the CZ gate\n",
    "        elif gates[i][0] == 'C':\n",
    "            control_bit = gates[i][-4]\n",
    "            target_bit = gates[i][-2]\n",
    "            n_gates.append(['CZ', control_bit, target_bit])\n",
    "        # Reformat the last gate to ensure that it has the correct target (and/or control) bits\n",
    "        if i == len(gates)-1:\n",
    "            count = 0\n",
    "            while(gates[i][count] != '\\\\'):\n",
    "                count += 1\n",
    "            if n_gates[i][0] == 'RZ' or n_gates[i][0] == 'RX':\n",
    "                n_gates[i][2] = gates[i][count-1]\n",
    "            if n_gates[i][0] == 'CZ':\n",
    "                n_gates[i][1] = gates[i][count-3]\n",
    "                n_gates[i][2] = gates[i][count-1]\n",
    "    \n",
    "    # ensure that we will do the matrix multiplication in the correct order\n",
    "    n_gates.reverse()\n",
    "    return n_gates"
   ]
  },
  {
   "cell_type": "markdown",
   "metadata": {},
   "source": [
    "## Create Rx, Rz, and Cz noisy gates "
   ]
  },
  {
   "cell_type": "markdown",
   "metadata": {},
   "source": [
    "The following code adds noise parameters, x, z, c to our standard gates, where each parameter is in term of an angle. In order to see the effect of varying these parameters, we want to retain the symbolic representation of these matrices, that we can multiply out in the Mathematica notebook. The following code prepares the symbolic notation for these gates as well as formats the program to be inputted to the Mathematica notebook."
   ]
  },
  {
   "cell_type": "markdown",
   "metadata": {},
   "source": [
    "### Standard function for Cz gate permutations"
   ]
  },
  {
   "cell_type": "code",
   "execution_count": 3,
   "metadata": {},
   "outputs": [
    {
     "ename": "NameError",
     "evalue": "name 'np' is not defined",
     "output_type": "error",
     "traceback": [
      "\u001b[0;31m---------------------------------------------------------------------------\u001b[0m",
      "\u001b[0;31mNameError\u001b[0m                                 Traceback (most recent call last)",
      "\u001b[0;32m<ipython-input-3-ec8034f9fc22>\u001b[0m in \u001b[0;36m<module>\u001b[0;34m\u001b[0m\n\u001b[1;32m     14\u001b[0m     \u001b[0;32mreturn\u001b[0m \u001b[0morderings\u001b[0m\u001b[0;34m\u001b[0m\u001b[0;34m\u001b[0m\u001b[0m\n\u001b[1;32m     15\u001b[0m \u001b[0;34m\u001b[0m\u001b[0m\n\u001b[0;32m---> 16\u001b[0;31m \u001b[0m_permute_orderings\u001b[0m \u001b[0;34m=\u001b[0m \u001b[0mgen_permute_orderings\u001b[0m\u001b[0;34m(\u001b[0m\u001b[0mN\u001b[0m\u001b[0;34m)\u001b[0m\u001b[0;34m\u001b[0m\u001b[0;34m\u001b[0m\u001b[0m\n\u001b[0m\u001b[1;32m     17\u001b[0m \u001b[0;31m# Format string for Mathematica notebook\u001b[0m\u001b[0;34m\u001b[0m\u001b[0;34m\u001b[0m\u001b[0;34m\u001b[0m\u001b[0m\n\u001b[1;32m     18\u001b[0m \u001b[0;32mdef\u001b[0m \u001b[0mpermute\u001b[0m\u001b[0;34m(\u001b[0m\u001b[0mm\u001b[0m\u001b[0;34m,\u001b[0m \u001b[0mp\u001b[0m\u001b[0;34m)\u001b[0m\u001b[0;34m:\u001b[0m\u001b[0;34m\u001b[0m\u001b[0;34m\u001b[0m\u001b[0m\n",
      "\u001b[0;32m<ipython-input-3-ec8034f9fc22>\u001b[0m in \u001b[0;36mgen_permute_orderings\u001b[0;34m(n)\u001b[0m\n\u001b[1;32m     11\u001b[0m         \u001b[0mm\u001b[0m\u001b[0;34m.\u001b[0m\u001b[0mdims\u001b[0m \u001b[0;34m=\u001b[0m \u001b[0;34m[\u001b[0m\u001b[0;34m[\u001b[0m\u001b[0;36m2\u001b[0m\u001b[0;34m]\u001b[0m \u001b[0;34m*\u001b[0m \u001b[0mn\u001b[0m\u001b[0;34m]\u001b[0m \u001b[0;34m*\u001b[0m \u001b[0;36m2\u001b[0m\u001b[0;34m\u001b[0m\u001b[0;34m\u001b[0m\u001b[0m\n\u001b[1;32m     12\u001b[0m         \u001b[0mm_perm\u001b[0m \u001b[0;34m=\u001b[0m \u001b[0mm\u001b[0m\u001b[0;34m.\u001b[0m\u001b[0mpermute\u001b[0m\u001b[0;34m(\u001b[0m\u001b[0mp\u001b[0m\u001b[0;34m)\u001b[0m\u001b[0;34m\u001b[0m\u001b[0;34m\u001b[0m\u001b[0m\n\u001b[0;32m---> 13\u001b[0;31m         \u001b[0morderings\u001b[0m\u001b[0;34m[\u001b[0m\u001b[0mp\u001b[0m\u001b[0;34m]\u001b[0m \u001b[0;34m=\u001b[0m \u001b[0mlist\u001b[0m\u001b[0;34m(\u001b[0m\u001b[0mmap\u001b[0m\u001b[0;34m(\u001b[0m\u001b[0mint\u001b[0m\u001b[0;34m,\u001b[0m \u001b[0mnp\u001b[0m\u001b[0;34m.\u001b[0m\u001b[0mreal\u001b[0m\u001b[0;34m(\u001b[0m\u001b[0mm_perm\u001b[0m\u001b[0;34m.\u001b[0m\u001b[0mfull\u001b[0m\u001b[0;34m(\u001b[0m\u001b[0;34m)\u001b[0m\u001b[0;34m[\u001b[0m\u001b[0;36m0\u001b[0m\u001b[0;34m]\u001b[0m\u001b[0;34m)\u001b[0m\u001b[0;34m)\u001b[0m\u001b[0;34m)\u001b[0m\u001b[0;34m\u001b[0m\u001b[0;34m\u001b[0m\u001b[0m\n\u001b[0m\u001b[1;32m     14\u001b[0m     \u001b[0;32mreturn\u001b[0m \u001b[0morderings\u001b[0m\u001b[0;34m\u001b[0m\u001b[0;34m\u001b[0m\u001b[0m\n\u001b[1;32m     15\u001b[0m \u001b[0;34m\u001b[0m\u001b[0m\n",
      "\u001b[0;31mNameError\u001b[0m: name 'np' is not defined"
     ]
    }
   ],
   "source": [
    "from itertools import permutations\n",
    "from qutip import Qobj\n",
    "\n",
    "# Build permutation maps for Cz matrix generation\n",
    "def gen_permute_orderings(n):\n",
    "    # n = number of qubits\n",
    "    orderings = {}\n",
    "    for p in permutations(range(n)):\n",
    "        m = [list(range(1, 1 + 2 ** n))] * (2 ** n)\n",
    "        m = Qobj(m)\n",
    "        m.dims = [[2] * n] * 2\n",
    "        m_perm = m.permute(p)\n",
    "        orderings[p] = list(map(int, np.real(m_perm.full()[0])))\n",
    "    return orderings\n",
    "\n",
    "_permute_orderings = gen_permute_orderings(N)\n",
    "# Format string for Mathematica notebook\n",
    "def permute(m, p):\n",
    "    order = f'{{{\",\".join(map(str, _permute_orderings[tuple(p)]))}}}'\n",
    "    return f'Transpose[Permute[Transpose[Permute[{m}, {order}]], {order}]]'"
   ]
  },
  {
   "cell_type": "markdown",
   "metadata": {},
   "source": [
    "### Format strings functions to output Mathematica program"
   ]
  },
  {
   "cell_type": "code",
   "execution_count": null,
   "metadata": {},
   "outputs": [],
   "source": [
    "import numpy as np\n",
    "\n",
    "from qutip.qip.gates import rx, rz, controlled_gate\n",
    "\n",
    "# gate structure: https://www.quantum-inspire.com/kbase/rotation-operators\n",
    "# format strings for each of the gates and operations used in Mathemaica notesbook\n",
    "IDENTITY = 'IdentityMatrix[2]'\n",
    "RZ_2QUBIT = '{{E^(-I (THETA + z) / 2.0), 0}, {0, E^(I (THETA + z) / 2.0)}}'\n",
    "RX_2QUBIT = '{{Cos[(THETA + x) / 2.0], -I Sin[(THETA + x) / 2.0]}, {-I Sin[(THETA + x) / 2.0], Cos[(THETA + x) / 2.0]}}'\n",
    "\n",
    "CZ_2Q_C0_T1 = '{{1,0,0,0},{0,1,0,0},{0,0,-E^(I (2 Pi + c)/2.0),0},{0,0,0,E^(I (2 Pi + c)/2.0)}}'\n",
    "CZ_2Q_C1_T0 = '{{1,0,0,0},{0,-E^(I (2 Pi + c)/2.0),0,0},{0,0,1,0},{0,0,0,E^(I (2 Pi + c)/2.0)}}'\n",
    "czTop = '-E^(I (2 Pi + c)/2.0)'\n",
    "czBottom = 'E^(I (2 Pi + c)/2.0)'\n",
    "\n",
    "MULTIPLY = '.('\n",
    "\n",
    "FOCK_20 = '{{1.0,0.0},{0.0,0.0}}'\n",
    "FOCK_21 = '{{0.0,0.0},{0.0,1.0}}'\n",
    "\n",
    "\n",
    "ZEROKET = f'{{{\",\".join([\"{1}\"] + ([\"{0}\"] * (-1 + 2**N)))}}}'\n",
    "\n",
    "def tensor(*args):\n",
    "    # notation to tensor matrices in Mathematica\n",
    "    assert(len(args) > 0)\n",
    "    if len(args) == 1:\n",
    "        return args[0]\n",
    "    return f'KroneckerProduct[{\",\".join(args)}]'\n",
    "\n",
    "def add(*args):\n",
    "    # notation to add matrices in Mathematica\n",
    "    return ' + '.join(args)\n",
    "\n",
    "def make_rx(gate_params, n):\n",
    "    # creates the symbolic version of the noisy Rx gate\n",
    "    name, theta, target = gate_params\n",
    "    target = int(target)\n",
    "    assert(name == 'RX')\n",
    "    \n",
    "    rx_2q = RX_2QUBIT.replace('THETA', theta)\n",
    "    return tensor(*[(rx_2q if i == target else IDENTITY) for i in range(n)])\n",
    "\n",
    "def make_rz(gate_params, n):\n",
    "    # creates the symbolic version of the noisy Rz gate\n",
    "    name, theta, target = gate_params\n",
    "    target = int(target)\n",
    "    assert(name == 'RZ')\n",
    "    \n",
    "    rz_2q = RZ_2QUBIT.replace('THETA', theta)\n",
    "    return tensor(*[(rz_2q if i == target else IDENTITY) for i in range(n)])\n",
    "\n",
    "\n",
    "# Creates a 2-qubit CZ gate\n",
    "def make_cz(gate_params, n):\n",
    "    name, control, target = gate_params\n",
    "    assert(name == \"CZ\")\n",
    "    assert(n == 2)\n",
    "    \n",
    "    if control == '0' and target == '1':\n",
    "        return CZ_2Q_C0_T1\n",
    "    elif control == '1' and target == '0':\n",
    "        return CZ_2Q_C1_T0\n",
    "    else:\n",
    "        assert(1 == 0)\n",
    "\n",
    "#Creates an n-qubit CZ gate with any control and target qubits\n",
    "def make_czFull(gate_params, n): \n",
    "    name, c, t = gate_params\n",
    "    assert(name == \"CZ\")\n",
    "    z = Qobj([[2,0],[0,3]])\n",
    "    cZ = controlled_gate(z, N = n, control = c, target = t)\n",
    "    mString = \"{\"\n",
    "    for e in cZ: \n",
    "        mString += \"{\"\n",
    "        for n in e[0]:\n",
    "            if(n == 2.0): \n",
    "                mString += czTop.replace('THETA', 'PI') + \", \"\n",
    "            elif(n == 3.0): \n",
    "                mString += czBottom.replace('THETA', 'PI') + \", \"\n",
    "            else: \n",
    "                mString += str(np.real(n)) + \" + \" + str(np.imag(n)) + \"I, \"\n",
    "        mString = mString[:len(mString) - 2]\n",
    "        mString += \"},\"\n",
    "    mString = mString = mString[:len(mString) - 2] + \"}}\"\n",
    "    return mString\n",
    "\n",
    "\n",
    "GATE_MAP = {\n",
    "    'RX': make_rx,\n",
    "    'RZ': make_rz,\n",
    "    'CZ': make_cz,\n",
    "}\n",
    "\n",
    "\n",
    "def fix_order(ket):\n",
    "    # flips order of qubits (pyquil uses IBM style)\n",
    "    return f'{ket}[[{{1, 3, 2, 4}}]]'\n",
    "\n",
    "def measure_probs(ket):\n",
    "    #measures probabilities of each state in wavefunction\n",
    "    return f'Map[Norm[#]^2 &, {ket}, {{2}}]'\n",
    "\n",
    "def make_vector(nprn):\n",
    "    #constructs necessary vector\n",
    "    return ZEROKET + ')' * nprn\n",
    "\n",
    "def converttoMathematicaVector(wF): \n",
    "    #converts an array of wavefunction amplitudes generated using the WaveFunctionSimulator into a mathematica vector\n",
    "    mString = \"{\"\n",
    "    for e in wF: \n",
    "        realVal = str(np.real(e))\n",
    "        erealInd = realVal.find('e')\n",
    "        imagVal = str(np.imag(e))\n",
    "        eimagInd = imagVal.find('e')\n",
    "        if(erealInd != -1): \n",
    "            re = realVal[:erealInd]\n",
    "            exponentR = realVal[erealInd+1:]\n",
    "            re += \" * 10^\" + exponentR\n",
    "        else: \n",
    "            re = realVal\n",
    "        if(eimagInd != -1): \n",
    "            im = imagVal[:eimagInd]\n",
    "            exponentI = imagVal[eimagInd+1:]\n",
    "            im += \" * 10^\" + exponentR\n",
    "        else: \n",
    "            im = imagVal\n",
    "        mString += \"{\" + re + \" + (\" + im + \")I\" + \"},\"\n",
    "    mString = mString[:len(mString) -1] + \"}\"\n",
    "    return mString\n",
    "    \n",
    "    \n",
    "def make_error_function(gates, n, ideal_state):\n",
    "    # returns function to be used in Mathematica\n",
    "    # n: number of qubits\n",
    "    str_gates = ['(']\n",
    "    for gate in gates:\n",
    "        str_gates.append(GATE_MAP[gate[0]](gate, n))\n",
    "    vec = make_vector(len(gates)+1)\n",
    "    str_gates.append(vec)\n",
    "    temp = MULTIPLY.join(str_gates)\n",
    "    # reformat to fix multiplication string with  first gate\n",
    "    temp = temp[2:]\n",
    "    \n",
    "    ideal_state = map(lambda num: f'{{{num}}}', ideal_state)\n",
    "    ideal_state_str = f'{{{\",\".join(ideal_state)}}}'.replace('j', 'I')\n",
    "    \n",
    "    noisy_probs = fix_order(measure_probs(temp))\n",
    "    ideal_probs = measure_probs(ideal_state_str)\n",
    "    \n",
    "    return f'ErrorFunc[x_, z_, c_] = Norm[{noisy_probs} - {ideal_probs}]'\n"
   ]
  },
  {
   "cell_type": "markdown",
   "metadata": {},
   "source": [
    "# Testing our Noise Functions on qCompress"
   ]
  },
  {
   "cell_type": "markdown",
   "metadata": {},
   "source": [
    "In the following code, we test our noise function on the trained qCompress circuit. We initalize a program and select a preocmputed state_prep circuit. We run the half of the circuit (state prep and compression), with and without our noisy parameters. The outputted string, should be copied and pasted into our Mathematica notebook for analysis."
   ]
  },
  {
   "cell_type": "code",
   "execution_count": 4,
   "metadata": {},
   "outputs": [
    {
     "ename": "NameError",
     "evalue": "name 'get_qc' is not defined",
     "output_type": "error",
     "traceback": [
      "\u001b[0;31m---------------------------------------------------------------------------\u001b[0m",
      "\u001b[0;31mNameError\u001b[0m                                 Traceback (most recent call last)",
      "\u001b[0;32m<ipython-input-4-2a8d4dd44738>\u001b[0m in \u001b[0;36m<module>\u001b[0;34m\u001b[0m\n\u001b[1;32m      3\u001b[0m \u001b[0;34m\u001b[0m\u001b[0m\n\u001b[1;32m      4\u001b[0m \u001b[0;31m# Initializes program\u001b[0m\u001b[0;34m\u001b[0m\u001b[0;34m\u001b[0m\u001b[0;34m\u001b[0m\u001b[0m\n\u001b[0;32m----> 5\u001b[0;31m \u001b[0mnoisy_qvm\u001b[0m \u001b[0;34m=\u001b[0m \u001b[0mget_qc\u001b[0m\u001b[0;34m(\u001b[0m\u001b[0;34m'9q-qvm'\u001b[0m\u001b[0;34m)\u001b[0m\u001b[0;34m\u001b[0m\u001b[0;34m\u001b[0m\u001b[0m\n\u001b[0m\u001b[1;32m      6\u001b[0m \u001b[0mp\u001b[0m \u001b[0;34m=\u001b[0m \u001b[0mProgram\u001b[0m\u001b[0;34m(\u001b[0m\u001b[0;34m)\u001b[0m\u001b[0;34m\u001b[0m\u001b[0;34m\u001b[0m\u001b[0m\n\u001b[1;32m      7\u001b[0m \u001b[0;34m\u001b[0m\u001b[0m\n",
      "\u001b[0;31mNameError\u001b[0m: name 'get_qc' is not defined"
     ]
    }
   ],
   "source": [
    "# Choose from list of precomputed state_prep circuits\n",
    "index = 8\n",
    "\n",
    "# Initializes program\n",
    "noisy_qvm = get_qc('9q-qvm')\n",
    "p = Program()\n",
    "\n",
    "# Runs half circuit\n",
    "circ_input = qae.state_prep_circuits[index]\n",
    "p.inst(circ_input)\n",
    "circ_compress = qae.construct_compression_circuit(qae.optimized_params, index)\n",
    "p.inst(circ_compress)\n",
    "\n",
    "# Expected vector for non-noisy computation \n",
    "wfs = WavefunctionSimulator()\n",
    "wf = wfs.wavefunction(p)\n",
    "ideal_state = wf.amplitudes\n",
    "\n",
    "# Compute formula for noisy computation\n",
    "executable = noisy_qvm.compile(p)\n",
    "gates = compiled_formatting(executable)\n",
    "mathematica_str = make_error_function(gates, 2, ideal_state)\n",
    "print(mathematica_str)"
   ]
  },
  {
   "cell_type": "code",
   "execution_count": null,
   "metadata": {},
   "outputs": [],
   "source": []
  }
 ],
 "metadata": {
  "kernelspec": {
   "display_name": "Python 3",
   "language": "python",
   "name": "python3"
  },
  "language_info": {
   "codemirror_mode": {
    "name": "ipython",
    "version": 3
   },
   "file_extension": ".py",
   "mimetype": "text/x-python",
   "name": "python",
   "nbconvert_exporter": "python",
   "pygments_lexer": "ipython3",
   "version": "3.7.1"
  }
 },
 "nbformat": 4,
 "nbformat_minor": 2
}
